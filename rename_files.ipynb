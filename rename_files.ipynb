{
 "cells": [
  {
   "cell_type": "code",
   "execution_count": 54,
   "id": "7ea4f485-73c7-4cc9-9650-38fa685e103b",
   "metadata": {},
   "outputs": [],
   "source": [
    "import os\n",
    " \n",
    "# Function to rename multiple files\n",
    "def main():\n",
    "    folder = \"SeaLake\"\n",
    "    for count, filename in enumerate(os.listdir(folder)):\n",
    "        dst = f\"SeaLake_{str(count+(5000))}.jpg\"\n",
    "        src =f\"{folder}/{filename}\" \n",
    "        dst =f\"{folder}/{dst}\"\n",
    "\n",
    "        # rename() function will\n",
    "        # rename all the files\n",
    "        os.rename(src, dst)\n",
    " \n",
    "# Driver Code\n",
    "if __name__ == '__main__':\n",
    "     \n",
    "    # Calling main() function\n",
    "    main()"
   ]
  },
  {
   "cell_type": "code",
   "execution_count": 55,
   "id": "1aac2d30-f5be-4061-a36c-dd84cf667da3",
   "metadata": {},
   "outputs": [],
   "source": [
    "from PIL import Image\n",
    "\n",
    "# Load the image and convert to 32-bit RGBA\n",
    "# im = Image.open(\"AnnualCrop_5000.jpg\").convert('RGB')\n",
    "\n",
    "# # Save result\n",
    "# im.save(\"AnnualCrop_kpk.png\")\n",
    "\n",
    "\n",
    "def main():\n",
    "    folder = \"SeaLake\"\n",
    "    for count, filename in enumerate(os.listdir(folder)):\n",
    "        src =f\"{folder}/{filename}\"\n",
    "        im = Image.open(src).convert('RGB')\n",
    "        im.save((src))\n",
    "        \n",
    "        #dst = f\"AnnualCrop_{str(count+(5000))}.jpg\"\n",
    "\n",
    "        #dst =f\"{folder}/{dst}\"\n",
    "\n",
    "        # rename() function will\n",
    "        # rename all the files\n",
    "        #os.rename(src, dst)\n",
    " \n",
    "# Driver Code\n",
    "if __name__ == '__main__':\n",
    "  \n",
    "    # Calling main() function\n",
    "    main()"
   ]
  },
  {
   "cell_type": "code",
   "execution_count": null,
   "id": "263bf653-3691-42fe-aba4-29748c94fc34",
   "metadata": {},
   "outputs": [],
   "source": []
  }
 ],
 "metadata": {
  "kernelspec": {
   "display_name": "Python 3",
   "language": "python",
   "name": "python3"
  },
  "language_info": {
   "codemirror_mode": {
    "name": "ipython",
    "version": 3
   },
   "file_extension": ".py",
   "mimetype": "text/x-python",
   "name": "python",
   "nbconvert_exporter": "python",
   "pygments_lexer": "ipython3",
   "version": "3.8.8"
  }
 },
 "nbformat": 4,
 "nbformat_minor": 5
}
