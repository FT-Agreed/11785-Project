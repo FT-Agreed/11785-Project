{
 "cells": [
  {
   "cell_type": "code",
   "execution_count": 1,
   "id": "5e8f3908",
   "metadata": {
    "execution": {
     "iopub.execute_input": "2022-04-20T22:51:55.665126Z",
     "iopub.status.busy": "2022-04-20T22:51:55.663675Z",
     "iopub.status.idle": "2022-04-20T22:52:05.216624Z",
     "shell.execute_reply": "2022-04-20T22:52:05.217108Z",
     "shell.execute_reply.started": "2022-04-20T21:19:42.754227Z"
    },
    "papermill": {
     "duration": 9.580587,
     "end_time": "2022-04-20T22:52:05.217375",
     "exception": false,
     "start_time": "2022-04-20T22:51:55.636788",
     "status": "completed"
    },
    "tags": []
   },
   "outputs": [
    {
     "name": "stdout",
     "output_type": "stream",
     "text": [
      "Collecting torchsummary\n",
      "  Downloading torchsummary-1.5.1-py3-none-any.whl (2.8 kB)\n",
      "Installing collected packages: torchsummary\n",
      "Successfully installed torchsummary-1.5.1\n",
      "\u001b[33mWARNING: Running pip as the 'root' user can result in broken permissions and conflicting behaviour with the system package manager. It is recommended to use a virtual environment instead: https://pip.pypa.io/warnings/venv\u001b[0m\n"
     ]
    }
   ],
   "source": [
    "!pip install torchsummary"
   ]
  },
  {
   "cell_type": "code",
   "execution_count": 2,
   "id": "6c7c6ad0",
   "metadata": {
    "execution": {
     "iopub.execute_input": "2022-04-20T22:52:05.273086Z",
     "iopub.status.busy": "2022-04-20T22:52:05.272309Z",
     "iopub.status.idle": "2022-04-20T22:52:06.940904Z",
     "shell.execute_reply": "2022-04-20T22:52:06.940266Z",
     "shell.execute_reply.started": "2022-04-20T21:19:51.922757Z"
    },
    "papermill": {
     "duration": 1.697676,
     "end_time": "2022-04-20T22:52:06.941041",
     "exception": false,
     "start_time": "2022-04-20T22:52:05.243365",
     "status": "completed"
    },
    "tags": []
   },
   "outputs": [],
   "source": [
    "# import the required packages\n",
    "import torch\n",
    "import argparse\n",
    "import numpy as np\n",
    "import torch.nn as nn\n",
    "import torch.optim as optim\n",
    "from torchvision import datasets, transforms\n",
    "from torch.autograd import Variable\n",
    "\n",
    "from torchvision.utils import save_image\n",
    "\n",
    "from torchvision.utils import make_grid\n",
    "\n",
    "from torch.utils.tensorboard import SummaryWriter\n",
    "import datetime\n",
    "import matplotlib.pyplot as plt\n",
    "from torchvision.utils import make_grid\n",
    "from torch.utils.tensorboard import SummaryWriter\n",
    "from torchsummary import summary"
   ]
  },
  {
   "cell_type": "code",
   "execution_count": 3,
   "id": "bf90eb36",
   "metadata": {
    "execution": {
     "iopub.execute_input": "2022-04-20T22:52:07.051399Z",
     "iopub.status.busy": "2022-04-20T22:52:07.050533Z",
     "iopub.status.idle": "2022-04-20T22:52:07.053127Z",
     "shell.execute_reply": "2022-04-20T22:52:07.052615Z",
     "shell.execute_reply.started": "2022-04-20T21:19:53.779597Z"
    },
    "papermill": {
     "duration": 0.088989,
     "end_time": "2022-04-20T22:52:07.053243",
     "exception": false,
     "start_time": "2022-04-20T22:52:06.964254",
     "status": "completed"
    },
    "tags": []
   },
   "outputs": [],
   "source": [
    "import os\n",
    "os.makedirs(\"Forest\", exist_ok=True)\n",
    "cuda = True if torch.cuda.is_available() else False"
   ]
  },
  {
   "cell_type": "code",
   "execution_count": 4,
   "id": "edfcec9b",
   "metadata": {
    "execution": {
     "iopub.execute_input": "2022-04-20T22:52:07.104068Z",
     "iopub.status.busy": "2022-04-20T22:52:07.103356Z",
     "iopub.status.idle": "2022-04-20T22:52:07.105276Z",
     "shell.execute_reply": "2022-04-20T22:52:07.105707Z",
     "shell.execute_reply.started": "2022-04-20T21:19:53.840556Z"
    },
    "papermill": {
     "duration": 0.028893,
     "end_time": "2022-04-20T22:52:07.105835",
     "exception": false,
     "start_time": "2022-04-20T22:52:07.076942",
     "status": "completed"
    },
    "tags": []
   },
   "outputs": [],
   "source": [
    "device = torch.device('cuda' if torch.cuda.is_available() else 'cpu')\n",
    "batch_size = 16"
   ]
  },
  {
   "cell_type": "code",
   "execution_count": 5,
   "id": "8957df88",
   "metadata": {
    "execution": {
     "iopub.execute_input": "2022-04-20T22:52:07.158484Z",
     "iopub.status.busy": "2022-04-20T22:52:07.156933Z",
     "iopub.status.idle": "2022-04-20T22:52:07.159092Z",
     "shell.execute_reply": "2022-04-20T22:52:07.159488Z",
     "shell.execute_reply.started": "2022-04-20T21:19:53.846577Z"
    },
    "papermill": {
     "duration": 0.03101,
     "end_time": "2022-04-20T22:52:07.159630",
     "exception": false,
     "start_time": "2022-04-20T22:52:07.128620",
     "status": "completed"
    },
    "tags": []
   },
   "outputs": [],
   "source": [
    "image_shape = (3, 64, 64)\n",
    "image_dim = int(np.prod(image_shape))\n",
    "latent_dim = 100"
   ]
  },
  {
   "cell_type": "code",
   "execution_count": 6,
   "id": "bbd2d4f7",
   "metadata": {
    "execution": {
     "iopub.execute_input": "2022-04-20T22:52:07.210637Z",
     "iopub.status.busy": "2022-04-20T22:52:07.209854Z",
     "iopub.status.idle": "2022-04-20T22:52:07.211805Z",
     "shell.execute_reply": "2022-04-20T22:52:07.212212Z",
     "shell.execute_reply.started": "2022-04-20T21:19:53.85653Z"
    },
    "papermill": {
     "duration": 0.029919,
     "end_time": "2022-04-20T22:52:07.212330",
     "exception": false,
     "start_time": "2022-04-20T22:52:07.182411",
     "status": "completed"
    },
    "tags": []
   },
   "outputs": [],
   "source": [
    "def weights_init_normal(m):\n",
    "    classname = m.__class__.__name__\n",
    "    if classname.find(\"Conv\") != -1:\n",
    "        torch.nn.init.normal_(m.weight.data, 0.0, 0.02)\n",
    "    elif classname.find(\"BatchNorm2d\") != -1:\n",
    "        torch.nn.init.normal_(m.weight.data, 1.0, 0.02)\n",
    "        torch.nn.init.constant_(m.bias.data, 0.0)"
   ]
  },
  {
   "cell_type": "code",
   "execution_count": 7,
   "id": "39549f24",
   "metadata": {
    "execution": {
     "iopub.execute_input": "2022-04-20T22:52:07.264435Z",
     "iopub.status.busy": "2022-04-20T22:52:07.263943Z",
     "iopub.status.idle": "2022-04-20T22:52:09.615232Z",
     "shell.execute_reply": "2022-04-20T22:52:09.614757Z",
     "shell.execute_reply.started": "2022-04-20T21:19:53.865204Z"
    },
    "papermill": {
     "duration": 2.378323,
     "end_time": "2022-04-20T22:52:09.615362",
     "exception": false,
     "start_time": "2022-04-20T22:52:07.237039",
     "status": "completed"
    },
    "tags": []
   },
   "outputs": [],
   "source": [
    "train_transform = transforms.Compose([transforms.ToTensor(),transforms.Normalize([0.5, 0.5, 0.5], [0.5, 0.5, 0.5])])\n",
    "train_dataset = datasets.ImageFolder(root='../input/eurosattraindata/archive/RBG/train/Forest', transform=train_transform)\n",
    "train_loader = torch.utils.data.DataLoader(dataset=train_dataset, batch_size=batch_size, shuffle=True)\n",
    "\n"
   ]
  },
  {
   "cell_type": "code",
   "execution_count": 8,
   "id": "70a66082",
   "metadata": {
    "execution": {
     "iopub.execute_input": "2022-04-20T22:52:09.666930Z",
     "iopub.status.busy": "2022-04-20T22:52:09.666142Z",
     "iopub.status.idle": "2022-04-20T22:52:09.670251Z",
     "shell.execute_reply": "2022-04-20T22:52:09.669684Z",
     "shell.execute_reply.started": "2022-04-20T21:19:55.850365Z"
    },
    "papermill": {
     "duration": 0.031477,
     "end_time": "2022-04-20T22:52:09.670396",
     "exception": false,
     "start_time": "2022-04-20T22:52:09.638919",
     "status": "completed"
    },
    "tags": []
   },
   "outputs": [
    {
     "name": "stdout",
     "output_type": "stream",
     "text": [
      "Training samples:  2400\n",
      "number of batches:  150\n"
     ]
    }
   ],
   "source": [
    "\n",
    "num_class = len(train_loader.dataset.classes)\n",
    "print('Training samples: ', len(train_loader)*batch_size)\n",
    "print('number of batches: ', len(train_loader))\n",
    "\n"
   ]
  },
  {
   "cell_type": "code",
   "execution_count": 9,
   "id": "9aa67334",
   "metadata": {
    "execution": {
     "iopub.execute_input": "2022-04-20T22:52:09.723591Z",
     "iopub.status.busy": "2022-04-20T22:52:09.722843Z",
     "iopub.status.idle": "2022-04-20T22:52:09.725271Z",
     "shell.execute_reply": "2022-04-20T22:52:09.724835Z",
     "shell.execute_reply.started": "2022-04-20T21:19:55.859262Z"
    },
    "papermill": {
     "duration": 0.030727,
     "end_time": "2022-04-20T22:52:09.725378",
     "exception": false,
     "start_time": "2022-04-20T22:52:09.694651",
     "status": "completed"
    },
    "tags": []
   },
   "outputs": [],
   "source": [
    "def show_images(images):\n",
    "    fig, ax = plt.subplots(figsize=(20, 20))\n",
    "    ax.set_xticks([]); ax.set_yticks([])\n",
    "    ax.imshow(make_grid(images.detach(), nrow=22).permute(1, 2, 0))\n",
    "\n",
    "def show_batch(dl):\n",
    "    for images, _ in dl:\n",
    "        show_images(images)\n",
    "        break"
   ]
  },
  {
   "cell_type": "code",
   "execution_count": 10,
   "id": "267930a9",
   "metadata": {
    "execution": {
     "iopub.execute_input": "2022-04-20T22:52:09.776404Z",
     "iopub.status.busy": "2022-04-20T22:52:09.775868Z",
     "iopub.status.idle": "2022-04-20T22:52:10.135873Z",
     "shell.execute_reply": "2022-04-20T22:52:10.134379Z",
     "shell.execute_reply.started": "2022-04-20T21:19:55.869329Z"
    },
    "papermill": {
     "duration": 0.38757,
     "end_time": "2022-04-20T22:52:10.136092",
     "exception": false,
     "start_time": "2022-04-20T22:52:09.748522",
     "status": "completed"
    },
    "tags": []
   },
   "outputs": [
    {
     "data": {
      "image/png": "[encoded data removed]",
      "text/plain": [
       "<Figure size 1440x1440 with 1 Axes>"
      ]
     },
     "metadata": {},
     "output_type": "display_data"
    }
   ],
   "source": [
    "show_batch(train_loader)"
   ]
  },
  {
   "cell_type": "code",
   "execution_count": 11,
   "id": "d5a3c01c",
   "metadata": {
    "execution": {
     "iopub.execute_input": "2022-04-20T22:52:10.239859Z",
     "iopub.status.busy": "2022-04-20T22:52:10.238291Z",
     "iopub.status.idle": "2022-04-20T22:52:10.240474Z",
     "shell.execute_reply": "2022-04-20T22:52:10.240944Z",
     "shell.execute_reply.started": "2022-04-20T21:19:56.170771Z"
    },
    "papermill": {
     "duration": 0.054671,
     "end_time": "2022-04-20T22:52:10.241081",
     "exception": false,
     "start_time": "2022-04-20T22:52:10.186410",
     "status": "completed"
    },
    "tags": []
   },
   "outputs": [],
   "source": [
    "# Generator Model Class Definition     \n",
    "class Generator(nn.Module):\n",
    "    def __init__(self):\n",
    "        super(Generator, self).__init__()\n",
    "        self.main = nn.Sequential(\n",
    "            # Block 1:input is Z, going into a convolution\n",
    "            nn.ConvTranspose2d(latent_dim, 64 * 8, 4, 1, 0, bias=False),\n",
    "            nn.BatchNorm2d(64 * 8),\n",
    "            nn.ReLU(True),\n",
    "            # Block 2: input is (64 * 8) x 4 x 4\n",
    "            nn.ConvTranspose2d(64 * 8, 64 * 4, 4, 2, 1, bias=False),\n",
    "            nn.BatchNorm2d(64 * 4),\n",
    "            nn.ReLU(True),\n",
    "            # Block 3: input is (64 * 4) x 8 x 8\n",
    "            nn.ConvTranspose2d(64 * 4, 64 * 2, 4, 2, 1, bias=False),\n",
    "            nn.BatchNorm2d(64 * 2),\n",
    "            nn.ReLU(True),\n",
    "            # Block 4: input is (64 * 2) x 16 x 16\n",
    "            nn.ConvTranspose2d(64 * 2, 64, 4, 2, 1, bias=False),\n",
    "            nn.BatchNorm2d(64),\n",
    "            nn.ReLU(True),\n",
    "            # Block 5: input is (64) x 32 x 32\n",
    "            nn.ConvTranspose2d(64, 3, 4, 2, 1, bias=False),\n",
    "            nn.Tanh()\n",
    "            # Output: output is (3) x 64 x 64\n",
    "            )\n",
    "    def forward(self, input):\n",
    "        output = self.main(input)\n",
    "        return output"
   ]
  },
  {
   "cell_type": "code",
   "execution_count": 12,
   "id": "7d0f0796",
   "metadata": {
    "execution": {
     "iopub.execute_input": "2022-04-20T22:52:10.299699Z",
     "iopub.status.busy": "2022-04-20T22:52:10.299013Z",
     "iopub.status.idle": "2022-04-20T22:52:10.301839Z",
     "shell.execute_reply": "2022-04-20T22:52:10.301406Z",
     "shell.execute_reply.started": "2022-04-20T21:19:56.192685Z"
    },
    "papermill": {
     "duration": 0.036216,
     "end_time": "2022-04-20T22:52:10.301950",
     "exception": false,
     "start_time": "2022-04-20T22:52:10.265734",
     "status": "completed"
    },
    "tags": []
   },
   "outputs": [],
   "source": [
    "# Discriminator Model Class Definition\n",
    "class Discriminator(nn.Module):\n",
    "    def __init__(self):\n",
    "        super(Discriminator, self).__init__()\n",
    "        self.main = nn.Sequential(\n",
    "            # Block 1: input is (3) x 64 x 64\n",
    "            nn.Conv2d(3, 64, 4, 2, 1, bias=False),\n",
    "            nn.LeakyReLU(0.2, inplace=True),\n",
    "            # Block 2: input is (64) x 32 x 32\n",
    "            nn.Conv2d(64, 64 * 2, 4, 2, 1, bias=False),\n",
    "            nn.BatchNorm2d(64 * 2),\n",
    "            nn.LeakyReLU(0.2, inplace=True),\n",
    "            # Block 3: input is (64*2) x 16 x 16\n",
    "            nn.Conv2d(64 * 2, 64 * 4, 4, 2, 1, bias=False),\n",
    "            nn.BatchNorm2d(64 * 4),\n",
    "            nn.LeakyReLU(0.2, inplace=True),\n",
    "            # Block 4: input is (64*4) x 8 x 8\n",
    "            nn.Conv2d(64 * 4, 64 * 8, 4, 2, 1, bias=False),\n",
    "            nn.BatchNorm2d(64 * 8),\n",
    "            nn.LeakyReLU(0.2, inplace=True),\n",
    "            # Block 5: input is (64*8) x 4 x 4\n",
    "            nn.Conv2d(64 * 8, 1, 4, 1, 0, bias=False),\n",
    "            nn.Sigmoid(),\n",
    "            nn.Flatten()\n",
    "            # Output: 1\n",
    "            )\n",
    "    def forward(self, input):\n",
    "        output = self.main(input)\n",
    "        return output"
   ]
  },
  {
   "cell_type": "code",
   "execution_count": 13,
   "id": "324cfc07",
   "metadata": {
    "execution": {
     "iopub.execute_input": "2022-04-20T22:52:10.358346Z",
     "iopub.status.busy": "2022-04-20T22:52:10.357632Z",
     "iopub.status.idle": "2022-04-20T22:52:13.081724Z",
     "shell.execute_reply": "2022-04-20T22:52:13.081201Z",
     "shell.execute_reply.started": "2022-04-20T21:19:56.207214Z"
    },
    "papermill": {
     "duration": 2.755624,
     "end_time": "2022-04-20T22:52:13.081875",
     "exception": false,
     "start_time": "2022-04-20T22:52:10.326251",
     "status": "completed"
    },
    "tags": []
   },
   "outputs": [
    {
     "name": "stdout",
     "output_type": "stream",
     "text": [
      "Generator(\n",
      "  (main): Sequential(\n",
      "    (0): ConvTranspose2d(100, 512, kernel_size=(4, 4), stride=(1, 1), bias=False)\n",
      "    (1): BatchNorm2d(512, eps=1e-05, momentum=0.1, affine=True, track_running_stats=True)\n",
      "    (2): ReLU(inplace=True)\n",
      "    (3): ConvTranspose2d(512, 256, kernel_size=(4, 4), stride=(2, 2), padding=(1, 1), bias=False)\n",
      "    (4): BatchNorm2d(256, eps=1e-05, momentum=0.1, affine=True, track_running_stats=True)\n",
      "    (5): ReLU(inplace=True)\n",
      "    (6): ConvTranspose2d(256, 128, kernel_size=(4, 4), stride=(2, 2), padding=(1, 1), bias=False)\n",
      "    (7): BatchNorm2d(128, eps=1e-05, momentum=0.1, affine=True, track_running_stats=True)\n",
      "    (8): ReLU(inplace=True)\n",
      "    (9): ConvTranspose2d(128, 64, kernel_size=(4, 4), stride=(2, 2), padding=(1, 1), bias=False)\n",
      "    (10): BatchNorm2d(64, eps=1e-05, momentum=0.1, affine=True, track_running_stats=True)\n",
      "    (11): ReLU(inplace=True)\n",
      "    (12): ConvTranspose2d(64, 3, kernel_size=(4, 4), stride=(2, 2), padding=(1, 1), bias=False)\n",
      "    (13): Tanh()\n",
      "  )\n",
      ")\n"
     ]
    }
   ],
   "source": [
    "generator = Generator().to(device)\n",
    "generator.apply(weights_init_normal)\n",
    "print(generator)\n"
   ]
  },
  {
   "cell_type": "code",
   "execution_count": 14,
   "id": "980a80cd",
   "metadata": {
    "execution": {
     "iopub.execute_input": "2022-04-20T22:52:13.140215Z",
     "iopub.status.busy": "2022-04-20T22:52:13.139455Z",
     "iopub.status.idle": "2022-04-20T22:52:13.170984Z",
     "shell.execute_reply": "2022-04-20T22:52:13.171430Z",
     "shell.execute_reply.started": "2022-04-20T21:19:59.066602Z"
    },
    "papermill": {
     "duration": 0.062809,
     "end_time": "2022-04-20T22:52:13.171604",
     "exception": false,
     "start_time": "2022-04-20T22:52:13.108795",
     "status": "completed"
    },
    "tags": []
   },
   "outputs": [
    {
     "name": "stdout",
     "output_type": "stream",
     "text": [
      "Discriminator(\n",
      "  (main): Sequential(\n",
      "    (0): Conv2d(3, 64, kernel_size=(4, 4), stride=(2, 2), padding=(1, 1), bias=False)\n",
      "    (1): LeakyReLU(negative_slope=0.2, inplace=True)\n",
      "    (2): Conv2d(64, 128, kernel_size=(4, 4), stride=(2, 2), padding=(1, 1), bias=False)\n",
      "    (3): BatchNorm2d(128, eps=1e-05, momentum=0.1, affine=True, track_running_stats=True)\n",
      "    (4): LeakyReLU(negative_slope=0.2, inplace=True)\n",
      "    (5): Conv2d(128, 256, kernel_size=(4, 4), stride=(2, 2), padding=(1, 1), bias=False)\n",
      "    (6): BatchNorm2d(256, eps=1e-05, momentum=0.1, affine=True, track_running_stats=True)\n",
      "    (7): LeakyReLU(negative_slope=0.2, inplace=True)\n",
      "    (8): Conv2d(256, 512, kernel_size=(4, 4), stride=(2, 2), padding=(1, 1), bias=False)\n",
      "    (9): BatchNorm2d(512, eps=1e-05, momentum=0.1, affine=True, track_running_stats=True)\n",
      "    (10): LeakyReLU(negative_slope=0.2, inplace=True)\n",
      "    (11): Conv2d(512, 1, kernel_size=(4, 4), stride=(1, 1), bias=False)\n",
      "    (12): Sigmoid()\n",
      "    (13): Flatten(start_dim=1, end_dim=-1)\n",
      "  )\n",
      ")\n"
     ]
    }
   ],
   "source": [
    "discriminator = Discriminator().to(device)\n",
    "discriminator.apply(weights_init_normal)\n",
    "print(discriminator)"
   ]
  },
  {
   "cell_type": "code",
   "execution_count": 15,
   "id": "ffaf76b5",
   "metadata": {
    "execution": {
     "iopub.execute_input": "2022-04-20T22:52:13.229881Z",
     "iopub.status.busy": "2022-04-20T22:52:13.229268Z",
     "iopub.status.idle": "2022-04-20T22:52:17.875786Z",
     "shell.execute_reply": "2022-04-20T22:52:17.876409Z",
     "shell.execute_reply.started": "2022-04-20T21:19:59.099886Z"
    },
    "papermill": {
     "duration": 4.678128,
     "end_time": "2022-04-20T22:52:17.876624",
     "exception": false,
     "start_time": "2022-04-20T22:52:13.198496",
     "status": "completed"
    },
    "tags": []
   },
   "outputs": [
    {
     "name": "stdout",
     "output_type": "stream",
     "text": [
      "----------------------------------------------------------------\n",
      "        Layer (type)               Output Shape         Param #\n",
      "================================================================\n",
      "   ConvTranspose2d-1            [-1, 512, 4, 4]         819,200\n",
      "       BatchNorm2d-2            [-1, 512, 4, 4]           1,024\n",
      "              ReLU-3            [-1, 512, 4, 4]               0\n",
      "   ConvTranspose2d-4            [-1, 256, 8, 8]       2,097,152\n",
      "       BatchNorm2d-5            [-1, 256, 8, 8]             512\n",
      "              ReLU-6            [-1, 256, 8, 8]               0\n",
      "   ConvTranspose2d-7          [-1, 128, 16, 16]         524,288\n",
      "       BatchNorm2d-8          [-1, 128, 16, 16]             256\n",
      "              ReLU-9          [-1, 128, 16, 16]               0\n",
      "  ConvTranspose2d-10           [-1, 64, 32, 32]         131,072\n",
      "      BatchNorm2d-11           [-1, 64, 32, 32]             128\n",
      "             ReLU-12           [-1, 64, 32, 32]               0\n",
      "  ConvTranspose2d-13            [-1, 3, 64, 64]           3,072\n",
      "             Tanh-14            [-1, 3, 64, 64]               0\n",
      "================================================================\n",
      "Total params: 3,576,704\n",
      "Trainable params: 3,576,704\n",
      "Non-trainable params: 0\n",
      "----------------------------------------------------------------\n",
      "Input size (MB): 0.00\n",
      "Forward/backward pass size (MB): 3.00\n",
      "Params size (MB): 13.64\n",
      "Estimated Total Size (MB): 16.64\n",
      "----------------------------------------------------------------\n"
     ]
    }
   ],
   "source": [
    "summary(generator, (100,1,1))"
   ]
  },
  {
   "cell_type": "code",
   "execution_count": 16,
   "id": "5eddcdc7",
   "metadata": {
    "execution": {
     "iopub.execute_input": "2022-04-20T22:52:17.934444Z",
     "iopub.status.busy": "2022-04-20T22:52:17.933826Z",
     "iopub.status.idle": "2022-04-20T22:52:18.062340Z",
     "shell.execute_reply": "2022-04-20T22:52:18.063031Z",
     "shell.execute_reply.started": "2022-04-20T21:20:03.835179Z"
    },
    "papermill": {
     "duration": 0.15964,
     "end_time": "2022-04-20T22:52:18.063243",
     "exception": false,
     "start_time": "2022-04-20T22:52:17.903603",
     "status": "completed"
    },
    "tags": []
   },
   "outputs": [
    {
     "name": "stdout",
     "output_type": "stream",
     "text": [
      "----------------------------------------------------------------\n",
      "        Layer (type)               Output Shape         Param #\n",
      "================================================================\n",
      "            Conv2d-1           [-1, 64, 32, 32]           3,072\n",
      "         LeakyReLU-2           [-1, 64, 32, 32]               0\n",
      "            Conv2d-3          [-1, 128, 16, 16]         131,072\n",
      "       BatchNorm2d-4          [-1, 128, 16, 16]             256\n",
      "         LeakyReLU-5          [-1, 128, 16, 16]               0\n",
      "            Conv2d-6            [-1, 256, 8, 8]         524,288\n",
      "       BatchNorm2d-7            [-1, 256, 8, 8]             512\n",
      "         LeakyReLU-8            [-1, 256, 8, 8]               0\n",
      "            Conv2d-9            [-1, 512, 4, 4]       2,097,152\n",
      "      BatchNorm2d-10            [-1, 512, 4, 4]           1,024\n",
      "        LeakyReLU-11            [-1, 512, 4, 4]               0\n",
      "           Conv2d-12              [-1, 1, 1, 1]           8,192\n",
      "          Sigmoid-13              [-1, 1, 1, 1]               0\n",
      "          Flatten-14                    [-1, 1]               0\n",
      "================================================================\n",
      "Total params: 2,765,568\n",
      "Trainable params: 2,765,568\n",
      "Non-trainable params: 0\n",
      "----------------------------------------------------------------\n",
      "Input size (MB): 0.05\n",
      "Forward/backward pass size (MB): 2.31\n",
      "Params size (MB): 10.55\n",
      "Estimated Total Size (MB): 12.91\n",
      "----------------------------------------------------------------\n"
     ]
    }
   ],
   "source": [
    "summary(discriminator, (3,64,64))"
   ]
  },
  {
   "cell_type": "code",
   "execution_count": 17,
   "id": "2bcfed02",
   "metadata": {
    "execution": {
     "iopub.execute_input": "2022-04-20T22:52:18.123935Z",
     "iopub.status.busy": "2022-04-20T22:52:18.123140Z",
     "iopub.status.idle": "2022-04-20T22:52:18.125493Z",
     "shell.execute_reply": "2022-04-20T22:52:18.125962Z",
     "shell.execute_reply.started": "2022-04-20T21:20:03.969301Z"
    },
    "papermill": {
     "duration": 0.034143,
     "end_time": "2022-04-20T22:52:18.126112",
     "exception": false,
     "start_time": "2022-04-20T22:52:18.091969",
     "status": "completed"
    },
    "tags": []
   },
   "outputs": [],
   "source": [
    "adversarial_loss = nn.BCELoss() "
   ]
  },
  {
   "cell_type": "code",
   "execution_count": 18,
   "id": "6338eb07",
   "metadata": {
    "execution": {
     "iopub.execute_input": "2022-04-20T22:52:18.188111Z",
     "iopub.status.busy": "2022-04-20T22:52:18.187267Z",
     "iopub.status.idle": "2022-04-20T22:52:18.189424Z",
     "shell.execute_reply": "2022-04-20T22:52:18.189859Z",
     "shell.execute_reply.started": "2022-04-20T21:20:03.977036Z"
    },
    "papermill": {
     "duration": 0.035366,
     "end_time": "2022-04-20T22:52:18.189994",
     "exception": false,
     "start_time": "2022-04-20T22:52:18.154628",
     "status": "completed"
    },
    "tags": []
   },
   "outputs": [],
   "source": [
    "def generator_loss(fake_output, label):\n",
    "    gen_loss = adversarial_loss(fake_output, label)\n",
    "    #print(gen_loss)\n",
    "    return gen_loss"
   ]
  },
  {
   "cell_type": "code",
   "execution_count": 19,
   "id": "b2bdc78c",
   "metadata": {
    "execution": {
     "iopub.execute_input": "2022-04-20T22:52:18.249932Z",
     "iopub.status.busy": "2022-04-20T22:52:18.249104Z",
     "iopub.status.idle": "2022-04-20T22:52:18.253420Z",
     "shell.execute_reply": "2022-04-20T22:52:18.253907Z",
     "shell.execute_reply.started": "2022-04-20T21:20:03.984055Z"
    },
    "papermill": {
     "duration": 0.035844,
     "end_time": "2022-04-20T22:52:18.254040",
     "exception": false,
     "start_time": "2022-04-20T22:52:18.218196",
     "status": "completed"
    },
    "tags": []
   },
   "outputs": [],
   "source": [
    "def discriminator_loss(output, label):\n",
    "    disc_loss = adversarial_loss(output, label)\n",
    "    return disc_loss"
   ]
  },
  {
   "cell_type": "code",
   "execution_count": 20,
   "id": "5162a431",
   "metadata": {
    "execution": {
     "iopub.execute_input": "2022-04-20T22:52:18.313656Z",
     "iopub.status.busy": "2022-04-20T22:52:18.313006Z",
     "iopub.status.idle": "2022-04-20T22:52:18.315409Z",
     "shell.execute_reply": "2022-04-20T22:52:18.315913Z",
     "shell.execute_reply.started": "2022-04-20T21:20:03.992298Z"
    },
    "papermill": {
     "duration": 0.034535,
     "end_time": "2022-04-20T22:52:18.316037",
     "exception": false,
     "start_time": "2022-04-20T22:52:18.281502",
     "status": "completed"
    },
    "tags": []
   },
   "outputs": [],
   "source": [
    "fixed_noise = torch.randn(128, latent_dim, 1, 1, device=device)\n",
    "real_label = 1\n",
    "fake_label = 0"
   ]
  },
  {
   "cell_type": "code",
   "execution_count": 21,
   "id": "f1a74734",
   "metadata": {
    "execution": {
     "iopub.execute_input": "2022-04-20T22:52:18.378869Z",
     "iopub.status.busy": "2022-04-20T22:52:18.377995Z",
     "iopub.status.idle": "2022-04-20T22:52:18.380213Z",
     "shell.execute_reply": "2022-04-20T22:52:18.380675Z",
     "shell.execute_reply.started": "2022-04-20T21:20:04.000228Z"
    },
    "papermill": {
     "duration": 0.036395,
     "end_time": "2022-04-20T22:52:18.380796",
     "exception": false,
     "start_time": "2022-04-20T22:52:18.344401",
     "status": "completed"
    },
    "tags": []
   },
   "outputs": [],
   "source": [
    "learning_rate = 0.0002\n",
    "G_optimizer = optim.Adam(generator.parameters(), lr = learning_rate, betas=(0.5, 0.999))\n",
    "D_optimizer = optim.Adam(discriminator.parameters(), lr = learning_rate, betas=(0.5, 0.999))"
   ]
  },
  {
   "cell_type": "code",
   "execution_count": 22,
   "id": "966d5409",
   "metadata": {
    "execution": {
     "iopub.execute_input": "2022-04-20T22:52:18.445074Z",
     "iopub.status.busy": "2022-04-20T22:52:18.444507Z",
     "iopub.status.idle": "2022-04-20T23:12:18.886055Z",
     "shell.execute_reply": "2022-04-20T23:12:18.886622Z",
     "shell.execute_reply.started": "2022-04-20T21:20:13.375978Z"
    },
    "papermill": {
     "duration": 1200.479712,
     "end_time": "2022-04-20T23:12:18.886840",
     "exception": false,
     "start_time": "2022-04-20T22:52:18.407128",
     "status": "completed"
    },
    "tags": []
   },
   "outputs": [
    {
     "name": "stdout",
     "output_type": "stream",
     "text": [
      "Epoch: [1/300]: D_loss: 0.078, G_loss: 29.836\n",
      "Epoch: [2/300]: D_loss: 0.000, G_loss: 35.900\n",
      "Epoch: [3/300]: D_loss: 1.612, G_loss: 11.193\n",
      "Epoch: [4/300]: D_loss: 0.929, G_loss: 2.423\n",
      "Epoch: [5/300]: D_loss: 0.845, G_loss: 2.324\n",
      "Epoch: [6/300]: D_loss: 0.772, G_loss: 2.791\n",
      "Epoch: [7/300]: D_loss: 0.919, G_loss: 2.312\n",
      "Epoch: [8/300]: D_loss: 0.846, G_loss: 2.680\n",
      "Epoch: [9/300]: D_loss: 1.006, G_loss: 2.096\n",
      "Epoch: [10/300]: D_loss: 0.822, G_loss: 2.865\n",
      "Epoch: [11/300]: D_loss: 0.784, G_loss: 2.718\n",
      "Epoch: [12/300]: D_loss: 0.797, G_loss: 2.767\n",
      "Epoch: [13/300]: D_loss: 1.019, G_loss: 2.044\n",
      "Epoch: [14/300]: D_loss: 1.012, G_loss: 2.135\n",
      "Epoch: [15/300]: D_loss: 1.051, G_loss: 2.039\n",
      "Epoch: [16/300]: D_loss: 1.119, G_loss: 1.851\n",
      "Epoch: [17/300]: D_loss: 1.088, G_loss: 1.985\n",
      "Epoch: [18/300]: D_loss: 1.097, G_loss: 1.701\n",
      "Epoch: [19/300]: D_loss: 1.133, G_loss: 1.754\n",
      "Epoch: [20/300]: D_loss: 1.272, G_loss: 1.493\n",
      "Epoch: [21/300]: D_loss: 1.232, G_loss: 1.348\n",
      "Epoch: [22/300]: D_loss: 1.197, G_loss: 1.444\n",
      "Epoch: [23/300]: D_loss: 1.246, G_loss: 1.352\n",
      "Epoch: [24/300]: D_loss: 1.254, G_loss: 1.284\n",
      "Epoch: [25/300]: D_loss: 1.274, G_loss: 1.344\n",
      "Epoch: [26/300]: D_loss: 1.247, G_loss: 1.405\n",
      "Epoch: [27/300]: D_loss: 1.226, G_loss: 1.359\n",
      "Epoch: [28/300]: D_loss: 1.172, G_loss: 1.413\n",
      "Epoch: [29/300]: D_loss: 1.113, G_loss: 1.657\n",
      "Epoch: [30/300]: D_loss: 1.149, G_loss: 1.567\n",
      "Epoch: [31/300]: D_loss: 1.103, G_loss: 1.616\n",
      "Epoch: [32/300]: D_loss: 1.157, G_loss: 1.558\n",
      "Epoch: [33/300]: D_loss: 1.161, G_loss: 1.598\n",
      "Epoch: [34/300]: D_loss: 1.218, G_loss: 1.428\n",
      "Epoch: [35/300]: D_loss: 1.204, G_loss: 1.421\n",
      "Epoch: [36/300]: D_loss: 1.267, G_loss: 1.305\n",
      "Epoch: [37/300]: D_loss: 1.218, G_loss: 1.364\n",
      "Epoch: [38/300]: D_loss: 1.294, G_loss: 1.277\n",
      "Epoch: [39/300]: D_loss: 1.274, G_loss: 1.359\n",
      "Epoch: [40/300]: D_loss: 1.248, G_loss: 1.310\n",
      "Epoch: [41/300]: D_loss: 1.262, G_loss: 1.287\n",
      "Epoch: [42/300]: D_loss: 1.295, G_loss: 1.261\n",
      "Epoch: [43/300]: D_loss: 1.253, G_loss: 1.326\n",
      "Epoch: [44/300]: D_loss: 1.262, G_loss: 1.361\n",
      "Epoch: [45/300]: D_loss: 1.229, G_loss: 1.375\n",
      "Epoch: [46/300]: D_loss: 1.264, G_loss: 1.322\n",
      "Epoch: [47/300]: D_loss: 1.188, G_loss: 1.340\n",
      "Epoch: [48/300]: D_loss: 1.205, G_loss: 1.329\n",
      "Epoch: [49/300]: D_loss: 1.251, G_loss: 1.274\n",
      "Epoch: [50/300]: D_loss: 1.236, G_loss: 1.344\n",
      "Epoch: [51/300]: D_loss: 1.236, G_loss: 1.442\n",
      "Epoch: [52/300]: D_loss: 1.245, G_loss: 1.367\n",
      "Epoch: [53/300]: D_loss: 1.203, G_loss: 1.399\n",
      "Epoch: [54/300]: D_loss: 1.152, G_loss: 1.398\n",
      "Epoch: [55/300]: D_loss: 1.145, G_loss: 1.490\n",
      "Epoch: [56/300]: D_loss: 1.169, G_loss: 1.442\n",
      "Epoch: [57/300]: D_loss: 1.174, G_loss: 1.536\n",
      "Epoch: [58/300]: D_loss: 1.138, G_loss: 1.573\n",
      "Epoch: [59/300]: D_loss: 1.116, G_loss: 1.566\n",
      "Epoch: [60/300]: D_loss: 1.119, G_loss: 1.539\n",
      "Epoch: [61/300]: D_loss: 1.053, G_loss: 1.640\n",
      "Epoch: [62/300]: D_loss: 1.136, G_loss: 1.636\n",
      "Epoch: [63/300]: D_loss: 1.139, G_loss: 1.572\n",
      "Epoch: [64/300]: D_loss: 1.078, G_loss: 1.670\n",
      "Epoch: [65/300]: D_loss: 1.094, G_loss: 1.745\n",
      "Epoch: [66/300]: D_loss: 1.098, G_loss: 1.845\n",
      "Epoch: [67/300]: D_loss: 1.031, G_loss: 1.762\n",
      "Epoch: [68/300]: D_loss: 1.025, G_loss: 1.846\n",
      "Epoch: [69/300]: D_loss: 1.030, G_loss: 1.799\n",
      "Epoch: [70/300]: D_loss: 0.978, G_loss: 1.921\n",
      "Epoch: [71/300]: D_loss: 0.981, G_loss: 1.974\n",
      "Epoch: [72/300]: D_loss: 0.949, G_loss: 2.085\n",
      "Epoch: [73/300]: D_loss: 0.885, G_loss: 2.105\n",
      "Epoch: [74/300]: D_loss: 0.871, G_loss: 2.199\n",
      "Epoch: [75/300]: D_loss: 0.846, G_loss: 2.223\n",
      "Epoch: [76/300]: D_loss: 0.863, G_loss: 2.334\n",
      "Epoch: [77/300]: D_loss: 0.850, G_loss: 2.330\n",
      "Epoch: [78/300]: D_loss: 0.742, G_loss: 2.488\n",
      "Epoch: [79/300]: D_loss: 0.765, G_loss: 2.475\n",
      "Epoch: [80/300]: D_loss: 0.741, G_loss: 2.610\n",
      "Epoch: [81/300]: D_loss: 0.770, G_loss: 2.542\n",
      "Epoch: [82/300]: D_loss: 0.724, G_loss: 2.656\n",
      "Epoch: [83/300]: D_loss: 0.714, G_loss: 2.698\n",
      "Epoch: [84/300]: D_loss: 0.690, G_loss: 2.753\n",
      "Epoch: [85/300]: D_loss: 0.614, G_loss: 2.936\n",
      "Epoch: [86/300]: D_loss: 0.655, G_loss: 2.984\n",
      "Epoch: [87/300]: D_loss: 0.655, G_loss: 2.975\n",
      "Epoch: [88/300]: D_loss: 0.663, G_loss: 2.972\n",
      "Epoch: [89/300]: D_loss: 0.615, G_loss: 2.910\n",
      "Epoch: [90/300]: D_loss: 0.685, G_loss: 3.017\n",
      "Epoch: [91/300]: D_loss: 0.611, G_loss: 3.146\n",
      "Epoch: [92/300]: D_loss: 0.612, G_loss: 3.122\n",
      "Epoch: [93/300]: D_loss: 0.600, G_loss: 3.087\n",
      "Epoch: [94/300]: D_loss: 0.627, G_loss: 3.143\n",
      "Epoch: [95/300]: D_loss: 0.623, G_loss: 3.142\n",
      "Epoch: [96/300]: D_loss: 0.594, G_loss: 3.131\n",
      "Epoch: [97/300]: D_loss: 0.649, G_loss: 3.217\n",
      "Epoch: [98/300]: D_loss: 0.613, G_loss: 3.102\n",
      "Epoch: [99/300]: D_loss: 0.563, G_loss: 3.258\n",
      "Epoch: [100/300]: D_loss: 0.578, G_loss: 3.197\n",
      "Epoch: [101/300]: D_loss: 0.630, G_loss: 3.257\n",
      "Epoch: [102/300]: D_loss: 0.616, G_loss: 3.228\n",
      "Epoch: [103/300]: D_loss: 0.628, G_loss: 3.253\n",
      "Epoch: [104/300]: D_loss: 0.578, G_loss: 3.264\n",
      "Epoch: [105/300]: D_loss: 0.592, G_loss: 3.316\n",
      "Epoch: [106/300]: D_loss: 0.574, G_loss: 3.300\n",
      "Epoch: [107/300]: D_loss: 0.543, G_loss: 3.344\n",
      "Epoch: [108/300]: D_loss: 0.566, G_loss: 3.324\n",
      "Epoch: [109/300]: D_loss: 0.561, G_loss: 3.417\n",
      "Epoch: [110/300]: D_loss: 0.607, G_loss: 3.364\n",
      "Epoch: [111/300]: D_loss: 0.538, G_loss: 3.468\n",
      "Epoch: [112/300]: D_loss: 0.540, G_loss: 3.365\n",
      "Epoch: [113/300]: D_loss: 0.526, G_loss: 3.523\n",
      "Epoch: [114/300]: D_loss: 0.492, G_loss: 3.556\n",
      "Epoch: [115/300]: D_loss: 0.516, G_loss: 3.505\n",
      "Epoch: [116/300]: D_loss: 0.503, G_loss: 3.546\n",
      "Epoch: [117/300]: D_loss: 0.521, G_loss: 3.584\n",
      "Epoch: [118/300]: D_loss: 0.527, G_loss: 3.550\n",
      "Epoch: [119/300]: D_loss: 0.514, G_loss: 3.649\n",
      "Epoch: [120/300]: D_loss: 0.457, G_loss: 3.622\n",
      "Epoch: [121/300]: D_loss: 0.479, G_loss: 3.673\n",
      "Epoch: [122/300]: D_loss: 0.462, G_loss: 3.687\n",
      "Epoch: [123/300]: D_loss: 0.466, G_loss: 3.799\n",
      "Epoch: [124/300]: D_loss: 0.429, G_loss: 3.736\n",
      "Epoch: [125/300]: D_loss: 0.439, G_loss: 3.773\n",
      "Epoch: [126/300]: D_loss: 0.475, G_loss: 3.738\n",
      "Epoch: [127/300]: D_loss: 0.440, G_loss: 3.720\n",
      "Epoch: [128/300]: D_loss: 0.416, G_loss: 3.957\n",
      "Epoch: [129/300]: D_loss: 0.401, G_loss: 3.838\n",
      "Epoch: [130/300]: D_loss: 0.385, G_loss: 4.029\n",
      "Epoch: [131/300]: D_loss: 0.399, G_loss: 3.919\n",
      "Epoch: [132/300]: D_loss: 0.411, G_loss: 4.058\n",
      "Epoch: [133/300]: D_loss: 0.468, G_loss: 4.008\n",
      "Epoch: [134/300]: D_loss: 0.341, G_loss: 4.128\n",
      "Epoch: [135/300]: D_loss: 0.397, G_loss: 4.180\n",
      "Epoch: [136/300]: D_loss: 0.332, G_loss: 4.172\n",
      "Epoch: [137/300]: D_loss: 0.376, G_loss: 4.126\n",
      "Epoch: [138/300]: D_loss: 0.411, G_loss: 4.299\n",
      "Epoch: [139/300]: D_loss: 0.367, G_loss: 4.223\n",
      "Epoch: [140/300]: D_loss: 0.335, G_loss: 4.215\n",
      "Epoch: [141/300]: D_loss: 0.430, G_loss: 4.277\n",
      "Epoch: [142/300]: D_loss: 0.366, G_loss: 4.303\n",
      "Epoch: [143/300]: D_loss: 0.342, G_loss: 4.408\n",
      "Epoch: [144/300]: D_loss: 0.361, G_loss: 4.424\n",
      "Epoch: [145/300]: D_loss: 0.365, G_loss: 4.414\n",
      "Epoch: [146/300]: D_loss: 0.359, G_loss: 4.258\n",
      "Epoch: [147/300]: D_loss: 0.347, G_loss: 4.384\n",
      "Epoch: [148/300]: D_loss: 0.320, G_loss: 4.547\n",
      "Epoch: [149/300]: D_loss: 0.321, G_loss: 4.583\n",
      "Epoch: [150/300]: D_loss: 0.330, G_loss: 4.496\n",
      "Epoch: [151/300]: D_loss: 0.286, G_loss: 4.542\n",
      "Epoch: [152/300]: D_loss: 0.336, G_loss: 4.600\n",
      "Epoch: [153/300]: D_loss: 0.294, G_loss: 4.589\n",
      "Epoch: [154/300]: D_loss: 0.279, G_loss: 4.646\n",
      "Epoch: [155/300]: D_loss: 0.324, G_loss: 4.832\n",
      "Epoch: [156/300]: D_loss: 0.333, G_loss: 4.573\n",
      "Epoch: [157/300]: D_loss: 0.264, G_loss: 4.556\n",
      "Epoch: [158/300]: D_loss: 0.316, G_loss: 4.705\n",
      "Epoch: [159/300]: D_loss: 0.285, G_loss: 4.617\n",
      "Epoch: [160/300]: D_loss: 0.347, G_loss: 5.070\n",
      "Epoch: [161/300]: D_loss: 0.297, G_loss: 4.474\n",
      "Epoch: [162/300]: D_loss: 0.251, G_loss: 4.799\n",
      "Epoch: [163/300]: D_loss: 0.278, G_loss: 4.783\n",
      "Epoch: [164/300]: D_loss: 0.275, G_loss: 4.978\n",
      "Epoch: [165/300]: D_loss: 0.273, G_loss: 5.074\n",
      "Epoch: [166/300]: D_loss: 0.308, G_loss: 4.819\n",
      "Epoch: [167/300]: D_loss: 0.284, G_loss: 4.881\n",
      "Epoch: [168/300]: D_loss: 0.287, G_loss: 4.903\n",
      "Epoch: [169/300]: D_loss: 0.298, G_loss: 5.036\n",
      "Epoch: [170/300]: D_loss: 0.263, G_loss: 4.962\n",
      "Epoch: [171/300]: D_loss: 0.275, G_loss: 5.003\n",
      "Epoch: [172/300]: D_loss: 0.271, G_loss: 4.817\n",
      "Epoch: [173/300]: D_loss: 0.297, G_loss: 5.304\n",
      "Epoch: [174/300]: D_loss: 0.273, G_loss: 4.791\n",
      "Epoch: [175/300]: D_loss: 0.295, G_loss: 4.860\n",
      "Epoch: [176/300]: D_loss: 0.277, G_loss: 4.967\n",
      "Epoch: [177/300]: D_loss: 0.250, G_loss: 5.089\n",
      "Epoch: [178/300]: D_loss: 0.196, G_loss: 4.848\n",
      "Epoch: [179/300]: D_loss: 0.317, G_loss: 5.217\n",
      "Epoch: [180/300]: D_loss: 0.276, G_loss: 5.520\n",
      "Epoch: [181/300]: D_loss: 0.257, G_loss: 5.220\n",
      "Epoch: [182/300]: D_loss: 0.219, G_loss: 5.077\n",
      "Epoch: [183/300]: D_loss: 0.254, G_loss: 5.330\n",
      "Epoch: [184/300]: D_loss: 0.237, G_loss: 5.249\n",
      "Epoch: [185/300]: D_loss: 0.257, G_loss: 5.333\n",
      "Epoch: [186/300]: D_loss: 0.207, G_loss: 5.295\n",
      "Epoch: [187/300]: D_loss: 0.191, G_loss: 5.144\n",
      "Epoch: [188/300]: D_loss: 0.268, G_loss: 5.579\n",
      "Epoch: [189/300]: D_loss: 0.213, G_loss: 5.514\n",
      "Epoch: [190/300]: D_loss: 0.221, G_loss: 5.372\n",
      "Epoch: [191/300]: D_loss: 0.223, G_loss: 5.484\n",
      "Epoch: [192/300]: D_loss: 0.244, G_loss: 5.408\n",
      "Epoch: [193/300]: D_loss: 0.206, G_loss: 5.239\n",
      "Epoch: [194/300]: D_loss: 0.213, G_loss: 5.451\n",
      "Epoch: [195/300]: D_loss: 0.228, G_loss: 5.590\n",
      "Epoch: [196/300]: D_loss: 0.241, G_loss: 5.758\n",
      "Epoch: [197/300]: D_loss: 0.228, G_loss: 5.921\n",
      "Epoch: [198/300]: D_loss: 0.205, G_loss: 5.721\n",
      "Epoch: [199/300]: D_loss: 0.230, G_loss: 5.551\n",
      "Epoch: [200/300]: D_loss: 0.186, G_loss: 5.359\n",
      "Epoch: [201/300]: D_loss: 0.155, G_loss: 6.109\n",
      "Epoch: [202/300]: D_loss: 0.227, G_loss: 5.713\n",
      "Epoch: [203/300]: D_loss: 0.182, G_loss: 6.251\n",
      "Epoch: [204/300]: D_loss: 0.219, G_loss: 6.104\n",
      "Epoch: [205/300]: D_loss: 0.234, G_loss: 5.758\n",
      "Epoch: [206/300]: D_loss: 0.190, G_loss: 5.888\n",
      "Epoch: [207/300]: D_loss: 0.169, G_loss: 5.720\n",
      "Epoch: [208/300]: D_loss: 0.236, G_loss: 6.052\n",
      "Epoch: [209/300]: D_loss: 0.226, G_loss: 6.013\n",
      "Epoch: [210/300]: D_loss: 0.174, G_loss: 5.510\n",
      "Epoch: [211/300]: D_loss: 0.249, G_loss: 5.811\n",
      "Epoch: [212/300]: D_loss: 0.208, G_loss: 5.469\n",
      "Epoch: [213/300]: D_loss: 0.252, G_loss: 6.080\n",
      "Epoch: [214/300]: D_loss: 0.248, G_loss: 5.741\n",
      "Epoch: [215/300]: D_loss: 0.261, G_loss: 6.042\n",
      "Epoch: [216/300]: D_loss: 0.201, G_loss: 5.483\n",
      "Epoch: [217/300]: D_loss: 0.247, G_loss: 5.870\n",
      "Epoch: [218/300]: D_loss: 0.181, G_loss: 5.745\n",
      "Epoch: [219/300]: D_loss: 0.191, G_loss: 5.498\n",
      "Epoch: [220/300]: D_loss: 0.207, G_loss: 6.032\n",
      "Epoch: [221/300]: D_loss: 0.210, G_loss: 5.556\n",
      "Epoch: [222/300]: D_loss: 0.199, G_loss: 6.373\n",
      "Epoch: [223/300]: D_loss: 0.266, G_loss: 6.033\n",
      "Epoch: [224/300]: D_loss: 0.190, G_loss: 5.677\n",
      "Epoch: [225/300]: D_loss: 0.323, G_loss: 6.075\n",
      "Epoch: [226/300]: D_loss: 0.204, G_loss: 5.578\n",
      "Epoch: [227/300]: D_loss: 0.185, G_loss: 5.681\n",
      "Epoch: [228/300]: D_loss: 0.188, G_loss: 5.972\n",
      "Epoch: [229/300]: D_loss: 0.165, G_loss: 6.055\n",
      "Epoch: [230/300]: D_loss: 0.209, G_loss: 6.777\n",
      "Epoch: [231/300]: D_loss: 0.230, G_loss: 6.792\n",
      "Epoch: [232/300]: D_loss: 0.178, G_loss: 6.131\n",
      "Epoch: [233/300]: D_loss: 0.149, G_loss: 5.842\n",
      "Epoch: [234/300]: D_loss: 0.180, G_loss: 5.973\n",
      "Epoch: [235/300]: D_loss: 0.254, G_loss: 6.265\n",
      "Epoch: [236/300]: D_loss: 0.225, G_loss: 6.158\n",
      "Epoch: [237/300]: D_loss: 0.136, G_loss: 5.623\n",
      "Epoch: [238/300]: D_loss: 0.181, G_loss: 6.337\n",
      "Epoch: [239/300]: D_loss: 0.185, G_loss: 6.181\n",
      "Epoch: [240/300]: D_loss: 0.194, G_loss: 6.139\n",
      "Epoch: [241/300]: D_loss: 0.134, G_loss: 5.953\n",
      "Epoch: [242/300]: D_loss: 0.187, G_loss: 6.450\n",
      "Epoch: [243/300]: D_loss: 0.264, G_loss: 6.236\n",
      "Epoch: [244/300]: D_loss: 0.182, G_loss: 6.220\n",
      "Epoch: [245/300]: D_loss: 0.174, G_loss: 6.472\n",
      "Epoch: [246/300]: D_loss: 0.213, G_loss: 6.540\n",
      "Epoch: [247/300]: D_loss: 0.208, G_loss: 6.473\n",
      "Epoch: [248/300]: D_loss: 0.166, G_loss: 6.122\n",
      "Epoch: [249/300]: D_loss: 0.198, G_loss: 6.338\n",
      "Epoch: [250/300]: D_loss: 0.158, G_loss: 6.305\n",
      "Epoch: [251/300]: D_loss: 0.175, G_loss: 7.400\n",
      "Epoch: [252/300]: D_loss: 0.178, G_loss: 6.426\n",
      "Epoch: [253/300]: D_loss: 0.150, G_loss: 6.150\n",
      "Epoch: [254/300]: D_loss: 0.151, G_loss: 5.879\n",
      "Epoch: [255/300]: D_loss: 0.157, G_loss: 6.658\n",
      "Epoch: [256/300]: D_loss: 0.148, G_loss: 6.720\n",
      "Epoch: [257/300]: D_loss: 0.190, G_loss: 7.154\n",
      "Epoch: [258/300]: D_loss: 0.164, G_loss: 6.816\n",
      "Epoch: [259/300]: D_loss: 0.165, G_loss: 6.911\n",
      "Epoch: [260/300]: D_loss: 0.143, G_loss: 6.378\n",
      "Epoch: [261/300]: D_loss: 0.131, G_loss: 6.279\n",
      "Epoch: [262/300]: D_loss: 0.239, G_loss: 7.468\n",
      "Epoch: [263/300]: D_loss: 0.175, G_loss: 6.048\n",
      "Epoch: [264/300]: D_loss: 0.133, G_loss: 6.059\n",
      "Epoch: [265/300]: D_loss: 0.171, G_loss: 7.295\n",
      "Epoch: [266/300]: D_loss: 0.201, G_loss: 6.545\n",
      "Epoch: [267/300]: D_loss: 0.173, G_loss: 6.262\n",
      "Epoch: [268/300]: D_loss: 0.223, G_loss: 7.251\n",
      "Epoch: [269/300]: D_loss: 0.232, G_loss: 6.697\n",
      "Epoch: [270/300]: D_loss: 0.164, G_loss: 6.006\n",
      "Epoch: [271/300]: D_loss: 0.153, G_loss: 6.439\n",
      "Epoch: [272/300]: D_loss: 0.227, G_loss: 6.908\n",
      "Epoch: [273/300]: D_loss: 0.196, G_loss: 6.627\n",
      "Epoch: [274/300]: D_loss: 0.169, G_loss: 6.195\n",
      "Epoch: [275/300]: D_loss: 0.144, G_loss: 6.755\n",
      "Epoch: [276/300]: D_loss: 0.142, G_loss: 6.366\n",
      "Epoch: [277/300]: D_loss: 0.167, G_loss: 6.842\n",
      "Epoch: [278/300]: D_loss: 0.183, G_loss: 6.939\n",
      "Epoch: [279/300]: D_loss: 0.169, G_loss: 7.019\n",
      "Epoch: [280/300]: D_loss: 0.144, G_loss: 6.279\n",
      "Epoch: [281/300]: D_loss: 0.136, G_loss: 7.573\n",
      "Epoch: [282/300]: D_loss: 0.169, G_loss: 6.444\n",
      "Epoch: [283/300]: D_loss: 0.217, G_loss: 7.269\n",
      "Epoch: [284/300]: D_loss: 0.184, G_loss: 6.400\n",
      "Epoch: [285/300]: D_loss: 0.165, G_loss: 7.138\n",
      "Epoch: [286/300]: D_loss: 0.168, G_loss: 6.535\n",
      "Epoch: [287/300]: D_loss: 0.177, G_loss: 7.397\n",
      "Epoch: [288/300]: D_loss: 0.153, G_loss: 6.961\n",
      "Epoch: [289/300]: D_loss: 0.160, G_loss: 6.422\n",
      "Epoch: [290/300]: D_loss: 0.170, G_loss: 7.341\n",
      "Epoch: [291/300]: D_loss: 0.099, G_loss: 6.286\n",
      "Epoch: [292/300]: D_loss: 0.175, G_loss: 7.775\n",
      "Epoch: [293/300]: D_loss: 0.194, G_loss: 7.537\n",
      "Epoch: [294/300]: D_loss: 0.160, G_loss: 6.704\n",
      "Epoch: [295/300]: D_loss: 0.185, G_loss: 7.647\n",
      "Epoch: [296/300]: D_loss: 0.133, G_loss: 6.959\n",
      "Epoch: [297/300]: D_loss: 0.148, G_loss: 7.429\n",
      "Epoch: [298/300]: D_loss: 0.138, G_loss: 7.060\n",
      "Epoch: [299/300]: D_loss: 0.111, G_loss: 6.698\n",
      "Epoch: [300/300]: D_loss: 0.117, G_loss: 6.845\n"
     ]
    }
   ],
   "source": [
    "num_epochs = 300\n",
    "D_loss_plot, G_loss_plot = [], []\n",
    "for epoch in range(1, num_epochs+1): \n",
    "\n",
    "    D_loss_list, G_loss_list = [], []\n",
    "   \n",
    "    for index, (real_images, _) in enumerate(train_loader):\n",
    "        D_optimizer.zero_grad()\n",
    "        real_images = real_images.to(device)\n",
    "      \n",
    "        real_target = Variable(torch.ones(real_images.size(0)).to(device))\n",
    "        fake_target = Variable(torch.zeros(real_images.size(0)).to(device))\n",
    "        \n",
    "        real_target = real_target.unsqueeze(1)\n",
    "        fake_target = fake_target.unsqueeze(1)\n",
    "\n",
    "        D_real_loss = discriminator_loss(discriminator(real_images), real_target)\n",
    "        # print(discriminator(real_images))\n",
    "        D_real_loss.backward()\n",
    "    \n",
    "        noise_vector = torch.randn(real_images.size(0), latent_dim, 1, 1, device=device)  \n",
    "        noise_vector = noise_vector.to(device)\n",
    "    \n",
    "        generated_image = generator(noise_vector)\n",
    "        output = discriminator(generated_image.detach())\n",
    "        D_fake_loss = discriminator_loss(output,  fake_target)\n",
    "\n",
    "    \n",
    "        # train with fake\n",
    "        D_fake_loss.backward()\n",
    "      \n",
    "        D_total_loss = D_real_loss + D_fake_loss\n",
    "        D_loss_list.append(D_total_loss)\n",
    "      \n",
    "        #D_total_loss.backward()\n",
    "        D_optimizer.step()\n",
    "\n",
    "        # Train generator with real labels\n",
    "        G_optimizer.zero_grad()\n",
    "        G_loss = generator_loss(discriminator(generated_image), real_target)\n",
    "        G_loss_list.append(G_loss)\n",
    "\n",
    "        G_loss.backward()\n",
    "        G_optimizer.step()\n",
    "\n",
    "\n",
    "    print('Epoch: [%d/%d]: D_loss: %.3f, G_loss: %.3f' % (\n",
    "            (epoch), num_epochs, torch.mean(torch.FloatTensor(D_loss_list)),\\\n",
    "             torch.mean(torch.FloatTensor(G_loss_list))))\n",
    "    \n",
    "    D_loss_plot.append(torch.mean(torch.FloatTensor(D_loss_list)))\n",
    "    G_loss_plot.append(torch.mean(torch.FloatTensor(G_loss_list)))\n",
    "    \n",
    "    if epoch == 300:\n",
    "        for i in range(generated_image.shape[0]):\n",
    "            save_image(generated_image[i], 'Forest/%d.png' %i, normalize=True)\n",
    "    else:\n",
    "        pass\n",
    "     \n",
    "torch.save(generator.state_dict(), './Forest/generator_epoch_%d.pth' % (epoch))\n",
    "torch.save(discriminator.state_dict(), './Forest/discriminator_epoch_%d.pth' % (epoch))"
   ]
  },
  {
   "cell_type": "code",
   "execution_count": null,
   "id": "9ffa1171",
   "metadata": {
    "papermill": {
     "duration": 0.115769,
     "end_time": "2022-04-20T23:12:20.080241",
     "exception": false,
     "start_time": "2022-04-20T23:12:19.964472",
     "status": "completed"
    },
    "tags": []
   },
   "outputs": [],
   "source": []
  }
 ],
 "metadata": {
  "kernelspec": {
   "display_name": "Python 3",
   "language": "python",
   "name": "python3"
  },
  "language_info": {
   "codemirror_mode": {
    "name": "ipython",
    "version": 3
   },
   "file_extension": ".py",
   "mimetype": "text/x-python",
   "name": "python",
   "nbconvert_exporter": "python",
   "pygments_lexer": "ipython3",
   "version": "3.8.8"
  },
  "papermill": {
   "default_parameters": {},
   "duration": 1234.949882,
   "end_time": "2022-04-20T23:12:22.325763",
   "environment_variables": {},
   "exception": null,
   "input_path": "__notebook__.ipynb",
   "output_path": "__notebook__.ipynb",
   "parameters": {},
   "start_time": "2022-04-20T22:51:47.375881",
   "version": "2.3.3"
  }
 },
 "nbformat": 4,
 "nbformat_minor": 5
}
